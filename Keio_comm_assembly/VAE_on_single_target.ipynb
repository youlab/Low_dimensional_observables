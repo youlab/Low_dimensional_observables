{
 "cells": [
  {
   "cell_type": "markdown",
   "id": "6ed26ab1-e120-4295-98ef-41338cbdcb3b",
   "metadata": {
    "id": "6ed26ab1-e120-4295-98ef-41338cbdcb3b"
   },
   "source": [
    "# Use VAEs to compress single target population dynamics (OD and fluorescence)\n",
    "\n",
    "Author: Zhengqing Zhou\n",
    "Updated: 2025/06/13"
   ]
  },
  {
   "cell_type": "code",
   "execution_count": 1,
   "id": "679fa5ec-f9ce-400e-a016-4fa4ee70a3b5",
   "metadata": {
    "colab": {
     "base_uri": "https://localhost:8080/",
     "height": 71
    },
    "executionInfo": {
     "elapsed": 3137,
     "status": "ok",
     "timestamp": 1692232517397,
     "user": {
      "displayName": "Zhengqing Zhou",
      "userId": "16562075886633759731"
     },
     "user_tz": 240
    },
    "id": "679fa5ec-f9ce-400e-a016-4fa4ee70a3b5",
    "is_executing": true,
    "outputId": "832502f8-5456-4884-b3e9-134d367fba4e"
   },
   "outputs": [
    {
     "data": {
      "text/plain": [
       "'cuda:0'"
      ]
     },
     "metadata": {},
     "output_type": "display_data"
    }
   ],
   "source": [
    "# We begin by importing the essentials\n",
    "import numpy as np\n",
    "import matplotlib.pyplot as plt\n",
    "\n",
    "# We also setup torch for later usage.\n",
    "import torch\n",
    "from torch.utils.data import DataLoader\n",
    "from tqdm.notebook import trange\n",
    "from torch.nn import functional as F\n",
    "from torch import nn\n",
    "\n",
    "from sklearn.metrics import r2_score\n",
    "\n",
    "import time as timer\n",
    "import pickle\n",
    "\n",
    "# Configure GPU if available\n",
    "if torch.cuda.is_available():\n",
    "\n",
    "    device = \"cuda:0\"\n",
    "else:\n",
    "    device = \"cpu\"\n",
    "\n",
    "display(device)\n"
   ]
  },
  {
   "cell_type": "markdown",
   "id": "5784f326-5a73-4fcb-b60f-b6255af53795",
   "metadata": {},
   "source": [
    "# VAE Network\n",
    "The VAE network has 32 channels in the encoder, consisting of 3 convolutional layers, each followed by a leaky relu function, with kernel = 3, strid = 1, and padding = 1, so the time series (length of 168) will not get shortened during the convolutions; and two parallel linear layers to project the encoded time series to the mean value and var of the latent dimension, based on which a gaussian sampling will be done, generating the embedding of the data. The embedding is further decoded by a decoder of the symmetrical structure."
   ]
  },
  {
   "cell_type": "code",
   "execution_count": 2,
   "id": "fcf51215-18f1-4134-adec-72d245507184",
   "metadata": {
    "tags": []
   },
   "outputs": [],
   "source": [
    "class VAE(nn.Module):\n",
    "\n",
    "    def __init__(self, n_target, latent_dim):\n",
    "\n",
    "        # Call parent model constructor and store hidden state variables.\n",
    "        super().__init__()\n",
    "        self.latent_dim = latent_dim\n",
    "        self.n_target = n_target\n",
    "        self.T = 168\n",
    "        self.channels = 32\n",
    "        \n",
    "        self.encoder = nn.Sequential(\n",
    "            nn.Conv1d(in_channels=self.n_target, out_channels=self.channels, kernel_size=3, stride=1, padding=1),\n",
    "            nn.LeakyReLU(),\n",
    "            nn.Conv1d(in_channels=self.channels, out_channels=self.channels, kernel_size=3, stride=1, padding=1),\n",
    "            nn.LeakyReLU(),\n",
    "            nn.Conv1d(in_channels=self.channels, out_channels=self.channels, kernel_size=3, stride=1, padding=1),\n",
    "            nn.LeakyReLU(),\n",
    "        )\n",
    "        \n",
    "        self.mean_map = nn.Linear(self.channels*self.T, self.latent_dim)\n",
    "        \n",
    "        self.std_map = nn.Linear(self.channels*self.T, self.latent_dim)\n",
    "        \n",
    "        self.fc_decoder = nn.Sequential(\n",
    "            nn.Linear(self.latent_dim, self.channels*self.T),\n",
    "            nn.LeakyReLU(),\n",
    "        )\n",
    "        \n",
    "        self.decoder = nn.Sequential(\n",
    "            nn.ConvTranspose1d(in_channels=self.channels, out_channels=self.channels, kernel_size=3, stride=1, padding=1),\n",
    "            nn.LeakyReLU(),\n",
    "            nn.ConvTranspose1d(in_channels=self.channels, out_channels=self.channels, kernel_size=3, stride=1, padding=1),\n",
    "            nn.LeakyReLU(),\n",
    "            nn.ConvTranspose1d(in_channels=self.channels, out_channels=self.n_target, kernel_size=3, stride=1, padding=1),\n",
    "            nn.LeakyReLU()\n",
    "        )\n",
    "\n",
    "    def sample(self, mean, log_var):\n",
    "        \"\"\"Sample a given N(0,1) normal distribution given a mean and log of variance.\"\"\"\n",
    "\n",
    "        # First compute the variance from the log variance.\n",
    "        var = torch.exp(0.5 * log_var)\n",
    "\n",
    "        # Compute a scaled distribution\n",
    "        eps = torch.randn_like(var)\n",
    "\n",
    "        # Add the vectors\n",
    "        z = mean + var * eps\n",
    "\n",
    "        return z\n",
    "\n",
    "    def forward(self, X):\n",
    "        \"\"\"Forward propogate through the model, return both the reconstruction and sampled mean and standard deviation\n",
    "        for the system.\n",
    "        \"\"\"\n",
    "        pre_code = self.encoder(X)\n",
    "        B, C, L = pre_code.shape\n",
    "        flattened = pre_code.view(B, C * L)\n",
    "\n",
    "        mu = self.mean_map(flattened)\n",
    "        log_var = self.std_map(flattened)\n",
    "\n",
    "        code = self.sample(mu, log_var)\n",
    "\n",
    "        # Pass through FC layers before decoding\n",
    "        post_code = self.fc_decoder(code)\n",
    "\n",
    "        X_hat = self.decoder(post_code.view(B, C, L))\n",
    "\n",
    "        return X_hat, code, mu, log_var\n",
    "\n",
    "def vae_loss(x_hat, x, mu, log_var):\n",
    "    \"Compute the sum of BCE and KL loss for the distribution.\"\n",
    "    \n",
    "    # weight for the KL divergence\n",
    "    alpha = 1e-4\n",
    "\n",
    "    # Compute the reconstruction loss\n",
    "    BCE = F.mse_loss(x_hat, x)\n",
    "\n",
    "    # Compute the KL divergence of the distribution.\n",
    "    KLD = -0.5 * torch.mean(1 + log_var - mu.pow(2) - log_var.exp())\n",
    "\n",
    "    return BCE + alpha*KLD"
   ]
  },
  {
   "cell_type": "code",
   "execution_count": 3,
   "id": "cb14cd6c-2390-49c6-9fcd-67f7ae4df838",
   "metadata": {},
   "outputs": [],
   "source": [
    "def count_parameters(model):\n",
    "    return sum(p.numel() for p in model.parameters() if p.requires_grad)"
   ]
  },
  {
   "cell_type": "markdown",
   "id": "22b97c66-79b0-417a-bec1-87d0096f5934",
   "metadata": {},
   "source": [
    "# Train single FP dynamics with VAEs of 1 embedding"
   ]
  },
  {
   "cell_type": "code",
   "execution_count": 4,
   "id": "ebf5a694-12e1-448a-bf15-bd6b92021055",
   "metadata": {},
   "outputs": [],
   "source": [
    "def train_model(model, data_loader, optimizer):\n",
    "    num_batches = len(data_loader)\n",
    "    total_loss = 0\n",
    "    model.train()\n",
    "\n",
    "    for batch in data_loader:\n",
    "        batch = batch.to(\"cuda:0\")\n",
    "        optimizer.zero_grad()\n",
    "        pred, code, mu, log_var = model(batch)\n",
    "        loss = vae_loss(pred, batch, mu, log_var)\n",
    "        loss.backward()\n",
    "        optimizer.step()\n",
    "\n",
    "        total_loss += loss.item()\n",
    "\n",
    "    avg_loss = total_loss / num_batches\n",
    "    return avg_loss\n",
    "\n",
    "def test_model(model, data_loader):\n",
    "\n",
    "    num_batches = len(data_loader)\n",
    "    total_loss = 0\n",
    "\n",
    "    model.eval()\n",
    "    with torch.no_grad():\n",
    "        for batch in data_loader:\n",
    "            batch = batch.to(\"cuda:0\")\n",
    "            pred, code, mu, log_var = model(batch)\n",
    "            loss = vae_loss(pred, batch, mu, log_var)\n",
    "            total_loss += loss.item()\n",
    "\n",
    "    avg_loss = total_loss / num_batches\n",
    "    return avg_loss"
   ]
  },
  {
   "cell_type": "code",
   "execution_count": 7,
   "id": "90a69722-6648-4802-b6e1-b20f91724c16",
   "metadata": {
    "tags": []
   },
   "outputs": [],
   "source": [
    "def get_data(target):\n",
    "    idx_FP_map = {\"EGFP\":0, \"mTagBFP2\":1, \"LSSmOrange\":2, \"mCherry\":3, \"OD\":4}\n",
    "    idx = idx_FP_map[target]\n",
    "    X_train = np.load(\"Nano_target_dynamics_train.npy\")[:,idx:idx+1,:]\n",
    "    X_test = np.load(\"Nano_target_dynamics_test.npy\")[:,idx:idx+1,:]\n",
    "    return X_train, X_test"
   ]
  },
  {
   "cell_type": "code",
   "execution_count": 10,
   "id": "5b64e4ba-31b4-4202-8d2f-771b93cb0fcc",
   "metadata": {},
   "outputs": [
    {
     "name": "stdout",
     "output_type": "stream",
     "text": [
      "model parameters: 3.4e+04\n"
     ]
    },
    {
     "data": {
      "application/vnd.jupyter.widget-view+json": {
       "model_id": "299c872be4b44b6c947dbdf968ff45c8",
       "version_major": 2,
       "version_minor": 0
      },
      "text/plain": [
       "  0%|          | 0/200 [00:00<?, ?it/s]"
      ]
     },
     "metadata": {},
     "output_type": "display_data"
    },
    {
     "name": "stdout",
     "output_type": "stream",
     "text": [
      "training finished, with starting MSE 8.0e-03, and ending error 1.8e-03\n"
     ]
    }
   ],
   "source": [
    "# set the random seed so the three trials have different initial model weights\n",
    "torch.manual_seed(0)\n",
    "\n",
    "lr = 1e-3\n",
    "lr_decay = 0.99\n",
    "batch_size = 16\n",
    "EPOCHS = 200\n",
    "\n",
    "n_target = 1\n",
    "n_embedding = 1\n",
    "target = \"OD\"\n",
    "X_train, X_test = get_data(target)\n",
    "X_train = torch.Tensor(X_train).float()\n",
    "X_test = torch.Tensor(X_test).float()\n",
    "train_loader = DataLoader(X_train,batch_size=batch_size,shuffle=True)\n",
    "test_loader = DataLoader(X_test,batch_size=batch_size,shuffle=False)\n",
    "\n",
    "model = VAE(n_target,n_embedding)\n",
    "model.to(\"cuda:0\");\n",
    "model.train()\n",
    "print(\"model parameters: %1.1e\"%count_parameters(model))\n",
    "train_losses=[]\n",
    "test_losses=[]\n",
    "optimizer = torch.optim.Adam(model.parameters(), lr=lr)\n",
    "for ix_epoch in trange(EPOCHS):\n",
    "    train_err=train_model(model, train_loader, optimizer)\n",
    "    test_err=test_model(model, test_loader)\n",
    "    train_losses.append(train_err)\n",
    "    test_losses.append(test_err)\n",
    "    # Exponential decay for learning rate\n",
    "    lr *= lr_decay\n",
    "    for param_group in optimizer.param_groups:\n",
    "        param_group['lr'] = lr\n",
    "print(\"training finished, with starting MSE %1.1e, and ending error %1.1e\"%(test_losses[0],test_losses[-1]))\n",
    "torch.save(model.state_dict(), f\"./vae_models/{target}_E1.pth\")"
   ]
  },
  {
   "cell_type": "code",
   "execution_count": 12,
   "id": "4b2572bd-938a-4546-ad91-f332854c6f75",
   "metadata": {},
   "outputs": [
    {
     "data": {
      "image/png": "[encoded data removed]",
      "text/plain": [
       "<Figure size 600x300 with 2 Axes>"
      ]
     },
     "metadata": {},
     "output_type": "display_data"
    },
    {
     "data": {
      "image/png": "[encoded data removed]",
      "text/plain": [
       "<Figure size 1000x200 with 5 Axes>"
      ]
     },
     "metadata": {},
     "output_type": "display_data"
    },
    {
     "data": {
      "image/png": "[encoded data removed]",
      "text/plain": [
       "<Figure size 1000x200 with 5 Axes>"
      ]
     },
     "metadata": {},
     "output_type": "display_data"
    }
   ],
   "source": [
    "target=\"OD\"\n",
    "n_target=1\n",
    "n_embedding=1\n",
    "model = VAE(n_target,n_embedding)\n",
    "model.to(\"cuda:0\");\n",
    "model.load_state_dict(\n",
    "    torch.load(\n",
    "        f\"./vae_models/{target}_E1.pth\",\n",
    "        weights_only=True\n",
    "    )\n",
    ")\n",
    "X_train, X_test = get_data(target)\n",
    "X_train = torch.Tensor(X_train).float()\n",
    "X_test = torch.Tensor(X_test).float()\n",
    "\n",
    "#rank both train and test data for visualization\n",
    "train_data=torch.Tensor(X_train)\n",
    "sums = train_data.sum(dim=(1,2))  # Shape: (B,)\n",
    "ranked_indices_train = torch.argsort(sums,descending=True)  # Sort by total sum\n",
    "\n",
    "test_data=torch.Tensor(X_test)\n",
    "sums = test_data.sum(dim=(1,2))  # Shape: (B,)\n",
    "ranked_indices_test = torch.argsort(sums,descending=True)  # Sort by total sum\n",
    "\n",
    "\n",
    "with torch.no_grad():\n",
    "    output_train, _, mu_train, logvar_train = model(train_data.to(device))\n",
    "    output_test, _, mu_test, logvar_test = model(test_data.to(device))\n",
    "\n",
    "\n",
    "output_train = output_train.cpu().numpy()\n",
    "output_test = output_test.cpu().numpy()\n",
    "\n",
    "# Percentage of data to visualize\n",
    "percentage = 0.2\n",
    "num_train_samples = int(len(train_data) * percentage)\n",
    "num_test_samples = int(len(test_data) * percentage)\n",
    "\n",
    "# Index into the data tensors\n",
    "subset_train_data = train_data[:num_train_samples]\n",
    "subset_test_data = test_data[:num_test_samples]\n",
    "\n",
    "subset_train_pred = output_train[:num_train_samples]\n",
    "subset_test_pred = output_test[:num_test_samples]\n",
    "\n",
    "# Plotting the reconstructed data against the original data\n",
    "fig, axs = plt.subplots(1, 2, figsize=(6, 3))\n",
    "\n",
    "# Training data plot\n",
    "axs[0].scatter(subset_train_data.flatten(), subset_train_pred.flatten(), s=0.1, color='blue', alpha=0.5)\n",
    "axs[0].plot([0,1], [0,1], 'r')  # y=x line\n",
    "axs[0].set_xlim([0,1])\n",
    "axs[0].set_ylim([0,1])\n",
    "axs[0].set_aspect('equal', adjustable='box')\n",
    "axs[0].set_xlabel('Original')\n",
    "axs[0].set_ylabel('Reconstructed')\n",
    "axs[0].set_title('Training')\n",
    "\n",
    "r2_train = r2_score(train_data.flatten(), output_train.flatten())\n",
    "KLD_train = -0.5 * torch.mean(1 + logvar_train - mu_train.pow(2) - logvar_train.exp())\n",
    "axs[0].text(0.05, 0.95, f'R$^2$ = {r2_train:.3f}\\nMSE = {mse_train: .1e}\\nKLD = {KLD_train: .1e}', transform=axs[0].transAxes, verticalalignment='top')\n",
    "\n",
    "# Testing data plot\n",
    "axs[1].scatter(subset_test_data.flatten(), subset_test_pred.flatten(), s=0.1, color='blue', alpha=0.5)\n",
    "axs[1].plot([0,1], [0,1], 'r')  # y=x line\n",
    "axs[1].set_xlim([0,1])\n",
    "axs[1].set_ylim([0,1])\n",
    "axs[1].set_aspect('equal', adjustable='box')\n",
    "axs[1].set_xlabel('Original')\n",
    "axs[1].set_ylabel('Reconstructed')\n",
    "axs[1].set_title('Testing')\n",
    "\n",
    "r2_test = r2_score(test_data.flatten(), output_test.flatten())\n",
    "KLD_test = -0.5 * torch.mean(1 + logvar_test - mu_test.pow(2) - logvar_test.exp())\n",
    "axs[1].text(0.05, 0.95, f'R$^2$ = {r2_test:.3f}\\nMSE = {mse_test: .1e}\\nKLD = {KLD_test: .1e}', transform=axs[1].transAxes, verticalalignment='top')\n",
    "\n",
    "plt.tight_layout()\n",
    "plt.show()\n",
    "\n",
    "# Additional Panels for Sample Data Trajectories\n",
    "fig, axs = plt.subplots(1, 5, figsize=(10, 2))\n",
    "# Training data trajectories\n",
    "idx_show = np.random.choice(ranked_indices_train[0:50],5,replace=False)\n",
    "for i,idx in enumerate(idx_show):\n",
    "    axs[i].plot(train_data[idx,0], color='blue')\n",
    "    axs[i].plot(output_train[idx,0], color='orange')\n",
    "    axs[i].set_ylim([0,1])\n",
    "    axs[i].set_xticks([])\n",
    "    axs[i].set_yticks([])\n",
    "    axs[i].text(x=0.95,y=0.95,s=f'Training {i + 1}',ha=\"right\",va=\"top\",transform=axs[i].transAxes)\n",
    "axs[2].set_title(target)\n",
    "axs[2].plot([], label='Original', color='blue')\n",
    "axs[2].plot([], label='Reconstructed', color='orange')\n",
    "axs[2].legend(loc=\"lower center\",bbox_to_anchor=(0.5,1.2),ncol=2)\n",
    "fig.subplots_adjust(hspace=0.25,wspace=0.33)\n",
    "\n",
    "fig, axs = plt.subplots(1, 5, figsize=(10, 2))\n",
    "# Testing data trajectories\n",
    "idx_show = np.random.choice(ranked_indices_test[0:50],5,replace=False)\n",
    "for i,idx in enumerate(idx_show):\n",
    "    axs[i].plot(test_data[idx,0], color='blue')\n",
    "    axs[i].plot(output_test[idx,0], color='orange')\n",
    "    axs[i].set_ylim([0,1])\n",
    "    axs[i].set_xticks([])\n",
    "    axs[i].set_yticks([])\n",
    "    axs[i].text(x=0.95,y=0.95,s=f'Test {i + 1}',ha=\"right\",va=\"top\",transform=axs[i].transAxes)\n",
    "axs[2].set_title(target)\n",
    "plt.show()\n"
   ]
  },
  {
   "cell_type": "markdown",
   "id": "c526134d-6067-4cbf-a5a9-96ceb2d97211",
   "metadata": {},
   "source": [
    "# Infer the growth dynamics based on endpoint fluorescence"
   ]
  },
  {
   "cell_type": "code",
   "execution_count": 4,
   "id": "2921df17-07f1-4580-aa33-9a84da37fecc",
   "metadata": {},
   "outputs": [],
   "source": [
    "class MLP_VAE(torch.nn.Module):\n",
    "    \n",
    "    def __init__(self, VAE, n_embedding, N):\n",
    "        super().__init__()\n",
    "        \n",
    "        self.channels = 256\n",
    "        \n",
    "        self.mlp = nn.Sequential(\n",
    "            nn.Linear(N,self.channels),\n",
    "            nn.LeakyReLU(),\n",
    "            nn.Linear(self.channels,self.channels),\n",
    "            nn.LeakyReLU(),\n",
    "            nn.Linear(self.channels,self.channels),\n",
    "            nn.LeakyReLU(),\n",
    "            nn.Linear(self.channels,n_embedding),\n",
    "            nn.LeakyReLU(),\n",
    "        )\n",
    "\n",
    "        self.fc_decoder = VAE.fc_decoder.eval()\n",
    "        self.decoder = VAE.decoder.eval()\n",
    "        \n",
    "        # Freeze the parameters of the VAE\n",
    "        for param in self.fc_decoder.parameters():\n",
    "            param.requires_grad = False\n",
    "        for param in self.decoder.parameters():\n",
    "            param.requires_grad = False\n",
    "        \n",
    "    \n",
    "    def forward(self, X):\n",
    "\n",
    "        B = X.shape[0]\n",
    "        C = 32\n",
    "        L = 168\n",
    "        \n",
    "        code = self.mlp(X)\n",
    "        \n",
    "        # Pass through FC layers before decoding\n",
    "        post_code = self.fc_decoder(code)\n",
    "\n",
    "        X_hat = self.decoder(post_code.view(B, C, L))\n",
    "\n",
    "        return X_hat\n"
   ]
  },
  {
   "cell_type": "code",
   "execution_count": 5,
   "id": "bdc814be-e42c-4131-bac4-c34726788b83",
   "metadata": {},
   "outputs": [],
   "source": [
    "class ABDCurvesDataSet(torch.utils.data.Dataset):\n",
    "    \n",
    "    def __init__(self, abd, curves):\n",
    "        \n",
    "        self.X = abd\n",
    "        self.Y = curves\n",
    "        \n",
    "    def __len__(self):\n",
    "        return self.X.shape[0]\n",
    "    \n",
    "    def __getitem__(self, idx):\n",
    "        \n",
    "        return self.X[idx], self.Y[idx]\n",
    "\n",
    "def get_abd_ts_data(target):\n",
    "    idx_FP_map = {\"EGFP\":0, \"mTagBFP2\":1, \"LSSmOrange\":2, \"mCherry\":3, \"OD\":4} # correspondence between the FP and their position in the time series data\n",
    "    \n",
    "    id_FP = idx_FP_map[target]\n",
    "    Y = np.load(\"./sequenced_data/sequenced_target_normal.npy\")[:,id_FP:id_FP+1,:]\n",
    "\n",
    "    composition = np.loadtxt(\"./sequenced_data/sequence_composition.txt\")\n",
    "    donor_abd = composition[:, 0:4]\n",
    "\n",
    "    donor_abd = donor_abd / np.max(donor_abd, axis=0)\n",
    "\n",
    "    Y = torch.Tensor(Y).float()\n",
    "    donor_abd = torch.Tensor(donor_abd[:,np.newaxis]).float()\n",
    "\n",
    "    full_dataset = ABDCurvesDataSet(donor_abd,Y)\n",
    "    return full_dataset"
   ]
  },
  {
   "cell_type": "code",
   "execution_count": 6,
   "id": "ee618fdb-c98e-4c4e-a97f-b3dc816c888b",
   "metadata": {
    "tags": []
   },
   "outputs": [],
   "source": [
    "#train and test function for mlp\n",
    "def train_model(model, data_loader, optimizer):\n",
    "    num_batches = len(data_loader)\n",
    "    total_loss = 0\n",
    "    model.mlp.train()\n",
    "\n",
    "    for abd, curves in data_loader:\n",
    "        abd = abd.to(device)\n",
    "        curves = curves.to(device)\n",
    "        \n",
    "        optimizer.zero_grad()\n",
    "        pred = model(abd)\n",
    "        loss = F.mse_loss(pred, curves)\n",
    "        loss.backward()\n",
    "        optimizer.step()\n",
    "\n",
    "        total_loss += loss.item()\n",
    "\n",
    "    avg_loss = total_loss / num_batches\n",
    "    return avg_loss\n",
    "\n",
    "def test_model(model, data_loader):\n",
    "\n",
    "    num_batches = len(data_loader)\n",
    "    total_loss = 0\n",
    "\n",
    "    model.mlp.eval()\n",
    "    with torch.no_grad():\n",
    "        for abd, curves in data_loader:\n",
    "            abd = abd.to(device)\n",
    "            curves = curves.to(device)\n",
    "            pred = model(abd)\n",
    "            loss = F.mse_loss(pred, curves)\n",
    "            total_loss += loss.item()\n",
    "\n",
    "    avg_loss = total_loss / num_batches\n",
    "    return avg_loss"
   ]
  },
  {
   "cell_type": "code",
   "execution_count": 7,
   "id": "a6faa906-b4da-412c-8c27-75bfe1a1664d",
   "metadata": {
    "tags": []
   },
   "outputs": [],
   "source": [
    "from sklearn.model_selection import StratifiedKFold\n",
    "def run_cross_validation_growth(target,trial):\n",
    "    seed = trial*42\n",
    "\n",
    "    lr_0 = 3e-4\n",
    "\n",
    "    EPOCHS = 100\n",
    "    lr_decay = 0.99\n",
    "    batch_size = 16\n",
    "\n",
    "    n_embedding = 1\n",
    "    n_target = 1\n",
    "    # Load pretrained VAE\n",
    "    vae_model = VAE(n_target, n_embedding)\n",
    "    vae_model.load_state_dict(\n",
    "        torch.load(\n",
    "            f\"./vae_models/{target}_E1.pth\",\n",
    "            weights_only=True\n",
    "        )\n",
    "    )\n",
    "    vae_model.to(\"cuda:0\")\n",
    "    vae_model.eval()\n",
    "\n",
    "    full_dataset = get_abd_ts_data(target)\n",
    "\n",
    "    all_train_losses = []\n",
    "    all_test_losses = []\n",
    "\n",
    "    # stratified 10-fold CV based on maximum FP reading\n",
    "    k_folds = 10\n",
    "    y_np = full_dataset.Y.numpy()\n",
    "    y_cont = np.max(y_np, axis=(1, 2))  # 1-D numpy array or list\n",
    "    n_bins = 5  # 5 quantile bins  →  roughly equal counts\n",
    "    bins = np.quantile(y_cont, np.linspace(0, 1, n_bins + 1))\n",
    "    y_bins = np.digitize(y_cont, bins[1:-1])\n",
    "\n",
    "    skf = StratifiedKFold(n_splits=k_folds, shuffle=True, random_state=seed)\n",
    "\n",
    "    for fold, (train_idx, test_idx) in enumerate(skf.split(np.zeros(len(y_bins)), y_bins)):\n",
    "        torch.manual_seed(seed+fold)\n",
    "        lr = lr_0 * 1\n",
    "\n",
    "        train_subset = torch.utils.data.Subset(full_dataset, train_idx)\n",
    "        test_subset = torch.utils.data.Subset(full_dataset, test_idx)\n",
    "\n",
    "        train_loader = DataLoader(train_subset, batch_size=batch_size, shuffle=True)\n",
    "        test_loader = DataLoader(test_subset, batch_size=batch_size, shuffle=False)\n",
    "\n",
    "        mlpvae = MLP_VAE(vae_model, n_embedding, 4).float().to(device)\n",
    "        # print(\"MLP-VAE model parameters = %1.1e\" % count_parameters(mlpvae))\n",
    "        mlpvae.mlp.train()\n",
    "\n",
    "        optimizer = torch.optim.Adam(mlpvae.mlp.parameters(), lr=lr)\n",
    "        train_losses = []\n",
    "        test_losses = []\n",
    "\n",
    "        test_err = test_model(mlpvae, test_loader)\n",
    "        # print(f\"Initial test loss: {test_err:.2e}\")\n",
    "\n",
    "        for ix_epoch in trange(EPOCHS):\n",
    "            train_err = train_model(mlpvae, train_loader, optimizer)\n",
    "            test_err = test_model(mlpvae, test_loader)\n",
    "            train_losses.append(train_err)\n",
    "            test_losses.append(test_err)\n",
    "            # Exponential decay for learning rate\n",
    "            lr *= lr_decay\n",
    "            for param_group in optimizer.param_groups:\n",
    "                param_group['lr'] = lr\n",
    "\n",
    "        all_train_losses.append(train_losses)\n",
    "        all_test_losses.append(test_losses)\n",
    "\n",
    "        #torch.save(mlpvae.state_dict(), f\"./mlp_models/{target}/{target}_growth_curve_inference_{fold + 1}-fold_trial{trial}.pth\")\n",
    "\n",
    "    return all_train_losses, all_test_losses"
   ]
  },
  {
   "cell_type": "code",
   "execution_count": 12,
   "id": "d13c023d-8030-46f1-97e7-b426d11bf5e3",
   "metadata": {
    "tags": []
   },
   "outputs": [
    {
     "data": {
      "application/vnd.jupyter.widget-view+json": {
       "model_id": "c5ab6024ddd348aeab196f2516d67a50",
       "version_major": 2,
       "version_minor": 0
      },
      "text/plain": [
       "  0%|          | 0/100 [00:00<?, ?it/s]"
      ]
     },
     "metadata": {},
     "output_type": "display_data"
    },
    {
     "data": {
      "application/vnd.jupyter.widget-view+json": {
       "model_id": "96710934d9dd442385555a874a612c2a",
       "version_major": 2,
       "version_minor": 0
      },
      "text/plain": [
       "  0%|          | 0/100 [00:00<?, ?it/s]"
      ]
     },
     "metadata": {},
     "output_type": "display_data"
    },
    {
     "data": {
      "application/vnd.jupyter.widget-view+json": {
       "model_id": "93fd333beeed4ee199253abe1a492fd1",
       "version_major": 2,
       "version_minor": 0
      },
      "text/plain": [
       "  0%|          | 0/100 [00:00<?, ?it/s]"
      ]
     },
     "metadata": {},
     "output_type": "display_data"
    },
    {
     "data": {
      "application/vnd.jupyter.widget-view+json": {
       "model_id": "c85902e381b94c79a7831e44ee31d211",
       "version_major": 2,
       "version_minor": 0
      },
      "text/plain": [
       "  0%|          | 0/100 [00:00<?, ?it/s]"
      ]
     },
     "metadata": {},
     "output_type": "display_data"
    },
    {
     "data": {
      "application/vnd.jupyter.widget-view+json": {
       "model_id": "24909a744269402397e9d187eb800f46",
       "version_major": 2,
       "version_minor": 0
      },
      "text/plain": [
       "  0%|          | 0/100 [00:00<?, ?it/s]"
      ]
     },
     "metadata": {},
     "output_type": "display_data"
    },
    {
     "data": {
      "application/vnd.jupyter.widget-view+json": {
       "model_id": "b98ffb10ce5742dd883eaef670227307",
       "version_major": 2,
       "version_minor": 0
      },
      "text/plain": [
       "  0%|          | 0/100 [00:00<?, ?it/s]"
      ]
     },
     "metadata": {},
     "output_type": "display_data"
    },
    {
     "data": {
      "application/vnd.jupyter.widget-view+json": {
       "model_id": "2043fba225974c4e95f353b2c376fc55",
       "version_major": 2,
       "version_minor": 0
      },
      "text/plain": [
       "  0%|          | 0/100 [00:00<?, ?it/s]"
      ]
     },
     "metadata": {},
     "output_type": "display_data"
    },
    {
     "data": {
      "application/vnd.jupyter.widget-view+json": {
       "model_id": "01d8c3ea20b440eaa6a756a63ff91039",
       "version_major": 2,
       "version_minor": 0
      },
      "text/plain": [
       "  0%|          | 0/100 [00:00<?, ?it/s]"
      ]
     },
     "metadata": {},
     "output_type": "display_data"
    },
    {
     "data": {
      "application/vnd.jupyter.widget-view+json": {
       "model_id": "cdcbc2e009ad491889a70e13d2ffae4f",
       "version_major": 2,
       "version_minor": 0
      },
      "text/plain": [
       "  0%|          | 0/100 [00:00<?, ?it/s]"
      ]
     },
     "metadata": {},
     "output_type": "display_data"
    },
    {
     "data": {
      "application/vnd.jupyter.widget-view+json": {
       "model_id": "3b1961bb95324b9db38af45ddcbc51f9",
       "version_major": 2,
       "version_minor": 0
      },
      "text/plain": [
       "  0%|          | 0/100 [00:00<?, ?it/s]"
      ]
     },
     "metadata": {},
     "output_type": "display_data"
    },
    {
     "name": "stdout",
     "output_type": "stream",
     "text": [
      "training finished, time used: 44 s\n"
     ]
    }
   ],
   "source": [
    "import time as timer\n",
    "t0=timer.perf_counter()\n",
    "target=\"LSSmOrange\"\n",
    "train_losses, test_losses = run_cross_validation_growth(target,trial=1)\n",
    "train_time=timer.perf_counter()-t0\n",
    "print(\"training finished, time used: %i s\"%train_time)"
   ]
  },
  {
   "cell_type": "code",
   "execution_count": 13,
   "id": "95269549-7ba2-40ff-bf39-8d76518f9ca6",
   "metadata": {
    "tags": []
   },
   "outputs": [
    {
     "data": {
      "image/png": "[encoded data removed]",
      "text/plain": [
       "<Figure size 1000x400 with 10 Axes>"
      ]
     },
     "metadata": {},
     "output_type": "display_data"
    }
   ],
   "source": [
    "fig,axes=plt.subplots(2,5,figsize=(10,4))\n",
    "axes=axes.flat\n",
    "for i in range(10):\n",
    "    ax=axes[i]\n",
    "    ax.plot(train_losses[i],label=\"train\")\n",
    "    ax.plot(test_losses[i],label=\"test\")\n",
    "    ax.set_yscale(\"log\")\n",
    "axes[0].legend()\n",
    "plt.show()"
   ]
  },
  {
   "cell_type": "markdown",
   "id": "2b6e2344-cdce-48cb-89b0-c648a000f1e2",
   "metadata": {},
   "source": [
    "## Evaluate model performance (R2) on per-fold basis\n",
    "**below this point, evaluation of the MLP inference of mCherry can be performed, but the evaluation of the other three fluorescence proteins requires downloading the entire dataset from Zenodo.**"
   ]
  },
  {
   "cell_type": "code",
   "execution_count": 8,
   "id": "ab5ec830-e06b-412e-9884-eef95782eb35",
   "metadata": {},
   "outputs": [
    {
     "name": "stdout",
     "output_type": "stream",
     "text": [
      "trial  1 — mean-fold R² = 0.861 (±0.077 SD)\n",
      "trial  2 — mean-fold R² = 0.884 (±0.056 SD)\n",
      "trial  3 — mean-fold R² = 0.864 (±0.088 SD)\n",
      "trial  4 — mean-fold R² = 0.846 (±0.092 SD)\n",
      "trial  5 — mean-fold R² = 0.850 (±0.064 SD)\n",
      "trial  6 — mean-fold R² = 0.869 (±0.085 SD)\n",
      "trial  7 — mean-fold R² = 0.860 (±0.093 SD)\n",
      "trial  8 — mean-fold R² = 0.862 (±0.083 SD)\n",
      "trial  9 — mean-fold R² = 0.855 (±0.075 SD)\n",
      "trial 10 — mean-fold R² = 0.864 (±0.065 SD)\n",
      "\n",
      "R² per fold (rows = trials, cols = folds 1-10):\n",
      "[[0.838 0.863 0.854 0.921 0.664 0.905 0.860 0.942 0.909 0.852]\n",
      " [0.928 0.918 0.746 0.946 0.881 0.880 0.865 0.919 0.876 0.878]\n",
      " [0.913 0.655 0.959 0.901 0.904 0.850 0.897 0.846 0.924 0.788]\n",
      " [0.932 0.819 0.905 0.922 0.910 0.923 0.784 0.860 0.666 0.735]\n",
      " [0.678 0.850 0.887 0.908 0.889 0.874 0.879 0.854 0.834 0.842]\n",
      " [0.669 0.931 0.928 0.871 0.926 0.948 0.782 0.896 0.877 0.860]\n",
      " [0.921 0.870 0.876 0.621 0.781 0.908 0.894 0.899 0.927 0.901]\n",
      " [0.880 0.685 0.910 0.836 0.847 0.873 0.922 0.951 0.946 0.771]\n",
      " [0.938 0.688 0.858 0.886 0.871 0.784 0.950 0.860 0.852 0.860]\n",
      " [0.833 0.857 0.925 0.697 0.880 0.869 0.921 0.902 0.864 0.892]]\n"
     ]
    }
   ],
   "source": [
    "from sklearn.metrics import r2_score\n",
    "import numpy as np\n",
    "import torch\n",
    "from pathlib import Path\n",
    "\n",
    "device      = \"cuda:0\"\n",
    "n_target    = 1\n",
    "n_embedding = 1\n",
    "target      = \"mCherry\"\n",
    "\n",
    "# ------------------------------------------------------------------\n",
    "# one-time setup\n",
    "vae_path   = f\"./vae_models/{target}_E1.pth\"\n",
    "vae_model  = VAE(n_target, n_embedding)\n",
    "vae_model.load_state_dict(torch.load(vae_path, weights_only=True))\n",
    "vae_model.eval().to(device)\n",
    "\n",
    "full_dataset = get_abd_ts_data(target)\n",
    "y_np         = full_dataset.Y.numpy()                     # (N, C, T)\n",
    "y_cont       = np.max(y_np, axis=(1, 2))\n",
    "bins         = np.quantile(y_cont, np.linspace(0, 1, 6))\n",
    "y_bins       = np.digitize(y_cont, bins[1:-1])\n",
    "\n",
    "# ------------------------------------------------------------------\n",
    "# containers for the 10 × 10 matrix  ⚡\n",
    "r2_matrix = np.zeros((10, 10), dtype=np.float32)          # trials × folds\n",
    "\n",
    "for trial in range(1, 11):\n",
    "    seed   = trial * 42\n",
    "    skf    = StratifiedKFold(n_splits=10, shuffle=True, random_state=seed)\n",
    "\n",
    "    for fold, (train_idx, test_idx) in enumerate(skf.split(np.zeros(len(y_bins)), y_bins)):\n",
    "\n",
    "        # ---------- inference on this fold ----------\n",
    "        X_test = torch.stack([full_dataset[i][0] for i in test_idx])\n",
    "        y_test = torch.stack([full_dataset[i][1] for i in test_idx])\n",
    "\n",
    "        mlpvae = MLP_VAE(vae_model, n_embedding, 4).float().to(device)\n",
    "        ckpt   = f\"./mlp_models/{target}/{target}_growth_curve_inference_{fold+1}-fold_trial{trial}.pth\"\n",
    "        mlpvae.load_state_dict(torch.load(ckpt, weights_only=True))\n",
    "        mlpvae.eval()\n",
    "\n",
    "        with torch.no_grad():\n",
    "            y_pred = mlpvae(X_test.to(device)).cpu()\n",
    "\n",
    "        # ---------- R² for *this* fold  ⚡ ----------\n",
    "        r2_fold = r2_score(y_test.flatten().numpy(), y_pred.flatten().numpy())\n",
    "        r2_matrix[trial - 1, fold] = r2_fold        # row = trial-1, col = fold\n",
    "\n",
    "    print(f\"trial {trial:2d} — mean-fold R² = {r2_matrix[trial-1].mean():.3f} \"\n",
    "          f\"(±{r2_matrix[trial-1].std(ddof=1):.3f} SD)\")\n",
    "\n",
    "# ------------------------------------------------------------------\n",
    "# save & inspect  ⚡\n",
    "save_dir = Path(f\"./saved_data/growth_curves\")\n",
    "save_dir.mkdir(parents=True, exist_ok=True)\n",
    "np.save(save_dir / f\"{target}_r2_per_fold_trials.npy\", r2_matrix)\n",
    "\n",
    "print(\"\\nR² per fold (rows = trials, cols = folds 1-10):\")\n",
    "print(np.array2string(r2_matrix, precision=3, floatmode='fixed'))\n"
   ]
  },
  {
   "cell_type": "markdown",
   "id": "806353cf-7ab3-450d-b970-f2e27d7da1eb",
   "metadata": {},
   "source": [
    "## Save the inferred time series of FPs"
   ]
  },
  {
   "cell_type": "code",
   "execution_count": 16,
   "id": "b05e5882-d211-4412-9a16-65398060a1fe",
   "metadata": {},
   "outputs": [
    {
     "name": "stdout",
     "output_type": "stream",
     "text": [
      "mCherry inference trial 1 evaluation finished, global R2 = 0.848\n",
      "mCherry inference trial 2 evaluation finished, global R2 = 0.860\n",
      "mCherry inference trial 3 evaluation finished, global R2 = 0.857\n",
      "mCherry inference trial 4 evaluation finished, global R2 = 0.848\n",
      "mCherry inference trial 5 evaluation finished, global R2 = 0.841\n",
      "mCherry inference trial 6 evaluation finished, global R2 = 0.854\n",
      "mCherry inference trial 7 evaluation finished, global R2 = 0.852\n",
      "mCherry inference trial 8 evaluation finished, global R2 = 0.854\n",
      "mCherry inference trial 9 evaluation finished, global R2 = 0.849\n",
      "mCherry inference trial 10 evaluation finished, global R2 = 0.851\n",
      "MLP model parameters: 1.33e+05\n"
     ]
    }
   ],
   "source": [
    "from sklearn.model_selection import StratifiedKFold\n",
    "\n",
    "device = \"cuda:0\"\n",
    "n_target = 1\n",
    "n_embedding = 1\n",
    "target = \"mCherry\"\n",
    "\n",
    "# Load VAE model\n",
    "vae_path = f\"./vae_models/{target}_E1.pth\"\n",
    "vae_model = VAE(n_target, n_embedding)\n",
    "vae_model.load_state_dict(torch.load(vae_path, weights_only=True))\n",
    "vae_model.eval()\n",
    "vae_model.to(device)\n",
    "\n",
    "full_dataset = get_abd_ts_data(target)\n",
    "y_np = full_dataset.Y.numpy()\n",
    "np.save(f\"./saved_data/growth_curves/{target}/{target}_ground_truth.npy\",y_np)\n",
    "y_cont = np.max(y_np,axis=(1,2))            # 1-D numpy array or list\n",
    "n_bins  = 5                        # 5 quantile bins  →  roughly equal counts\n",
    "bins    = np.quantile(y_cont, np.linspace(0, 1, n_bins + 1))\n",
    "y_bins  = np.digitize(y_cont, bins[1:-1])\n",
    "\n",
    "for trial in range(1,11,1):\n",
    "    seed = trial*42\n",
    "\n",
    "    skf = StratifiedKFold(n_splits=10, shuffle=True, random_state=seed)\n",
    "\n",
    "    ground_truth = np.zeros_like(y_np)\n",
    "    prediction = np.zeros_like(y_np)\n",
    "    for fold, (train_idx, test_idx) in enumerate(skf.split(np.zeros(len(y_bins)), y_bins)):\n",
    "    \n",
    "        # Create test subset and loader\n",
    "        X_test = torch.stack([full_dataset[i][0] for i in test_idx])\n",
    "        y_test = torch.stack([full_dataset[i][1] for i in test_idx])\n",
    "    \n",
    "        # Load MLP-VAE model\n",
    "        mlpvae = MLP_VAE(vae_model, n_embedding, 4).float().to(device)\n",
    "        model_path = f\"./mlp_models/{target}/{target}_growth_curve_inference_{fold+1}-fold_trial{trial}.pth\"\n",
    "        mlpvae.load_state_dict(torch.load(model_path, weights_only=True))\n",
    "        mlpvae.eval()\n",
    "    \n",
    "        with torch.no_grad():\n",
    "            y_pred = mlpvae(X_test.to(device)).cpu()\n",
    "\n",
    "        ground_truth[test_idx,:,:]=y_test.numpy()\n",
    "        prediction[test_idx,:,:]=y_pred.numpy()\n",
    "    r2 = r2_score(y_np.flatten(),prediction.flatten())\n",
    "    np.save(f\"./saved_data/growth_curves/{target}/{target}_inference_trial{trial}.npy\",prediction)\n",
    "    print(f\"{target} inference trial {trial} evaluation finished, global R2 = {r2:.3f}\")\n",
    "print(f\"MLP model parameters: {count_parameters(mlpvae):1.2e}\")"
   ]
  },
  {
   "cell_type": "markdown",
   "id": "46d7dbaa-0156-4ea4-bcd2-e1e9a8275dbc",
   "metadata": {},
   "source": [
    "## Visualize the inference quality"
   ]
  },
  {
   "cell_type": "code",
   "execution_count": 11,
   "id": "2e4de15e-960b-4272-80f2-996e7a1a02d7",
   "metadata": {},
   "outputs": [
    {
     "data": {
      "image/png": "[encoded data removed]",
      "text/plain": [
       "<Figure size 800x600 with 6 Axes>"
      ]
     },
     "metadata": {},
     "output_type": "display_data"
    },
    {
     "data": {
      "image/png": "[encoded data removed]",
      "text/plain": [
       "<Figure size 300x300 with 1 Axes>"
      ]
     },
     "metadata": {},
     "output_type": "display_data"
    }
   ],
   "source": [
    "import numpy as np\n",
    "import matplotlib.pyplot as plt\n",
    "from pathlib import Path\n",
    "from sklearn.metrics import r2_score\n",
    "\n",
    "# ------------------------------------------------------------------\n",
    "# CONFIG ------------------------------------------------------------\n",
    "trial_id = 1                                     # visualise trial 1\n",
    "base_dir = Path(\"./saved_data/growth_curves\")    # data location\n",
    "np.random.seed(42)\n",
    "\n",
    "# ------------------------------------------------------------------\n",
    "# LOAD DATA ---------------------------------------------------------\n",
    "all_truths = []\n",
    "all_preds = []\n",
    "\n",
    "target = \"mCherry\"\n",
    "gt_path   = base_dir / target / f\"{target}_ground_truth.npy\"\n",
    "pred_path = base_dir / target / f\"{target}_inference_trial{trial_id}.npy\"\n",
    "\n",
    "truth = np.load(gt_path)\n",
    "pred  = np.load(pred_path)\n",
    "\n",
    "# ------------------------------------------------------------------\n",
    "# FIGURE 1: Six example wells --------------------------------------\n",
    "fig, axes = plt.subplots(2, 3, figsize=(8, 6))\n",
    "axes = axes.flat\n",
    "\n",
    "n_show   = 6\n",
    "tp_show  = np.arange(0, 168, 8)  # mark every 8th time‑point\n",
    "x        = np.arange(0, 168, 1)\n",
    "\n",
    "# rank samples by total signal in the first four donor channels\n",
    "SUM = np.sum(truth_all, axis=(1, 2))\n",
    "rank_indices = np.argsort(SUM)[::-1]             # descending\n",
    "idx_show = np.random.choice(rank_indices[:30], n_show, replace=False)\n",
    "\n",
    "for i, ii in enumerate(idx_show):\n",
    "    ax = axes[i]\n",
    "    data = truth[ii,0]     # shape (C_total, T)\n",
    "    rec  = pred[ii,0]\n",
    "    l = ax.plot(x, rec, linewidth=1.5)\n",
    "    ax.scatter(x[tp_show], data[tp_show],\n",
    "               s=30, edgecolor=l[-1].get_color(), facecolor=\"None\")\n",
    "\n",
    "    ax.set_ylim([0, 1])\n",
    "    ax.set_xlim([0, 168])\n",
    "    ax.set_xticks([0, 84, 168])\n",
    "    ax.set_xticklabels([])\n",
    "    ax.set_yticks([0, 0.5, 1])\n",
    "    ax.set_yticklabels([])\n",
    "\n",
    "# shared legend\n",
    "axes[3].set_xlabel(\"time\")\n",
    "axes[3].set_yticklabels([0, 0.5, 1])\n",
    "axes[3].plot([], [], linewidth=1.5, color=\"k\", label=\"MLP‑VAE reconstruction\")\n",
    "axes[3].scatter([], [], s=30, edgecolor=\"k\", facecolor=\"None\", label=\"ground truth\")\n",
    "fig.legend(loc=\"upper center\", ncol=2)\n",
    "fig.tight_layout()\n",
    "\n",
    "# ------------------------------------------------------------------\n",
    "# FIGURE 2: Scatter plot --------------------------------\n",
    "fig2, ax2 = plt.subplots(1, 1, figsize=(3, 3))\n",
    "\n",
    "ground_truth = truth[:, 0, :].flatten()\n",
    "pred         = pred[:, 0, :].flatten()\n",
    "\n",
    "ax2.scatter(ground_truth, pred, s=10, alpha=0.5)\n",
    "diag_max = np.max(ground_truth)\n",
    "ax2.plot([0, diag_max], [0, diag_max], lw=1)\n",
    "\n",
    "r2 = r2_score(ground_truth, pred)\n",
    "ax2.set_title(target)\n",
    "ax2.text(0.95, 0.05, f\"R² = {r2:.2f}\", transform=ax2.transAxes,\n",
    "         ha=\"right\", va=\"bottom\")\n",
    "\n",
    "ax2.set_xlabel(\"ground truth\")\n",
    "ax2.set_ylabel(\"MLP prediction\")\n",
    "fig2.tight_layout()\n",
    "\n",
    "plt.show()\n"
   ]
  },
  {
   "cell_type": "code",
   "execution_count": null,
   "id": "ac308753-c955-46e5-82dc-6edddd9c9ffd",
   "metadata": {},
   "outputs": [],
   "source": []
  }
 ],
 "metadata": {
  "accelerator": "GPU",
  "colab": {
   "gpuType": "T4",
   "machine_shape": "hm",
   "provenance": []
  },
  "kernelspec": {
   "display_name": "Python (myenv)",
   "language": "python",
   "name": "myenv"
  },
  "language_info": {
   "codemirror_mode": {
    "name": "ipython",
    "version": 3
   },
   "file_extension": ".py",
   "mimetype": "text/x-python",
   "name": "python",
   "nbconvert_exporter": "python",
   "pygments_lexer": "ipython3",
   "version": "3.12.4"
  },
  "toc-autonumbering": false,
  "toc-showcode": false,
  "widgets": {
   "application/vnd.jupyter.widget-state+json": {
    "00562f59406946998908f11348cf30bb": {
     "model_module": "@jupyter-widgets/controls",
     "model_module_version": "1.5.0",
     "model_name": "HTMLModel",
     "state": {
      "_dom_classes": [],
      "_model_module": "@jupyter-widgets/controls",
      "_model_module_version": "1.5.0",
      "_model_name": "HTMLModel",
      "_view_count": null,
      "_view_module": "@jupyter-widgets/controls",
      "_view_module_version": "1.5.0",
      "_view_name": "HTMLView",
      "description": "",
      "description_tooltip": null,
      "layout": "IPY_MODEL_5768b457bdca4c61a158139d8987bd52",
      "placeholder": "​",
      "style": "IPY_MODEL_1d571a8d2bed472da5193fb3ca3c83f4",
      "value": "100%"
     }
    },
    "019837de83544616872d0425a3c3e0c2": {
     "model_module": "@jupyter-widgets/controls",
     "model_module_version": "1.5.0",
     "model_name": "HTMLModel",
     "state": {
      "_dom_classes": [],
      "_model_module": "@jupyter-widgets/controls",
      "_model_module_version": "1.5.0",
      "_model_name": "HTMLModel",
      "_view_count": null,
      "_view_module": "@jupyter-widgets/controls",
      "_view_module_version": "1.5.0",
      "_view_name": "HTMLView",
      "description": "",
      "description_tooltip": null,
      "layout": "IPY_MODEL_83fbf67e21934d4dbe879816b4d65bb5",
      "placeholder": "​",
      "style": "IPY_MODEL_f2fa81dcab9a4dccb4a26ab281ff8fbe",
      "value": "100%"
     }
    },
    "045765ff92ad4095af7bce9fc5d0d04c": {
     "model_module": "@jupyter-widgets/base",
     "model_module_version": "1.2.0",
     "model_name": "LayoutModel",
     "state": {
      "_model_module": "@jupyter-widgets/base",
      "_model_module_version": "1.2.0",
      "_model_name": "LayoutModel",
      "_view_count": null,
      "_view_module": "@jupyter-widgets/base",
      "_view_module_version": "1.2.0",
      "_view_name": "LayoutView",
      "align_content": null,
      "align_items": null,
      "align_self": null,
      "border": null,
      "bottom": null,
      "display": null,
      "flex": null,
      "flex_flow": null,
      "grid_area": null,
      "grid_auto_columns": null,
      "grid_auto_flow": null,
      "grid_auto_rows": null,
      "grid_column": null,
      "grid_gap": null,
      "grid_row": null,
      "grid_template_areas": null,
      "grid_template_columns": null,
      "grid_template_rows": null,
      "height": null,
      "justify_content": null,
      "justify_items": null,
      "left": null,
      "margin": null,
      "max_height": null,
      "max_width": null,
      "min_height": null,
      "min_width": null,
      "object_fit": null,
      "object_position": null,
      "order": null,
      "overflow": null,
      "overflow_x": null,
      "overflow_y": null,
      "padding": null,
      "right": null,
      "top": null,
      "visibility": null,
      "width": null
     }
    },
    "08d33e93126a45469ea6ac282e157b2a": {
     "model_module": "@jupyter-widgets/controls",
     "model_module_version": "1.5.0",
     "model_name": "ProgressStyleModel",
     "state": {
      "_model_module": "@jupyter-widgets/controls",
      "_model_module_version": "1.5.0",
      "_model_name": "ProgressStyleModel",
      "_view_count": null,
      "_view_module": "@jupyter-widgets/base",
      "_view_module_version": "1.2.0",
      "_view_name": "StyleView",
      "bar_color": null,
      "description_width": ""
     }
    },
    "0d9df85df0cd4635a63f2f1a4d6e80f8": {
     "model_module": "@jupyter-widgets/base",
     "model_module_version": "1.2.0",
     "model_name": "LayoutModel",
     "state": {
      "_model_module": "@jupyter-widgets/base",
      "_model_module_version": "1.2.0",
      "_model_name": "LayoutModel",
      "_view_count": null,
      "_view_module": "@jupyter-widgets/base",
      "_view_module_version": "1.2.0",
      "_view_name": "LayoutView",
      "align_content": null,
      "align_items": null,
      "align_self": null,
      "border": null,
      "bottom": null,
      "display": null,
      "flex": null,
      "flex_flow": null,
      "grid_area": null,
      "grid_auto_columns": null,
      "grid_auto_flow": null,
      "grid_auto_rows": null,
      "grid_column": null,
      "grid_gap": null,
      "grid_row": null,
      "grid_template_areas": null,
      "grid_template_columns": null,
      "grid_template_rows": null,
      "height": null,
      "justify_content": null,
      "justify_items": null,
      "left": null,
      "margin": null,
      "max_height": null,
      "max_width": null,
      "min_height": null,
      "min_width": null,
      "object_fit": null,
      "object_position": null,
      "order": null,
      "overflow": null,
      "overflow_x": null,
      "overflow_y": null,
      "padding": null,
      "right": null,
      "top": null,
      "visibility": null,
      "width": null
     }
    },
    "0dcd2e40078a4676a4c4bea6ac2759fd": {
     "model_module": "@jupyter-widgets/controls",
     "model_module_version": "1.5.0",
     "model_name": "HTMLModel",
     "state": {
      "_dom_classes": [],
      "_model_module": "@jupyter-widgets/controls",
      "_model_module_version": "1.5.0",
      "_model_name": "HTMLModel",
      "_view_count": null,
      "_view_module": "@jupyter-widgets/controls",
      "_view_module_version": "1.5.0",
      "_view_name": "HTMLView",
      "description": "",
      "description_tooltip": null,
      "layout": "IPY_MODEL_2ba80552d8a543b796c9d3bb523a2739",
      "placeholder": "​",
      "style": "IPY_MODEL_12bcffeb58fe4b33a8b9fef320408a21",
      "value": " 1000/1000 [03:20&lt;00:00,  4.95it/s]"
     }
    },
    "0e338a40e0944f2bb709de95311d5a5a": {
     "model_module": "@jupyter-widgets/controls",
     "model_module_version": "1.5.0",
     "model_name": "HBoxModel",
     "state": {
      "_dom_classes": [],
      "_model_module": "@jupyter-widgets/controls",
      "_model_module_version": "1.5.0",
      "_model_name": "HBoxModel",
      "_view_count": null,
      "_view_module": "@jupyter-widgets/controls",
      "_view_module_version": "1.5.0",
      "_view_name": "HBoxView",
      "box_style": "",
      "children": [
       "IPY_MODEL_00562f59406946998908f11348cf30bb",
       "IPY_MODEL_4eb168794cf34d539777e42dad9f9490",
       "IPY_MODEL_0dcd2e40078a4676a4c4bea6ac2759fd"
      ],
      "layout": "IPY_MODEL_0d9df85df0cd4635a63f2f1a4d6e80f8"
     }
    },
    "12bcffeb58fe4b33a8b9fef320408a21": {
     "model_module": "@jupyter-widgets/controls",
     "model_module_version": "1.5.0",
     "model_name": "DescriptionStyleModel",
     "state": {
      "_model_module": "@jupyter-widgets/controls",
      "_model_module_version": "1.5.0",
      "_model_name": "DescriptionStyleModel",
      "_view_count": null,
      "_view_module": "@jupyter-widgets/base",
      "_view_module_version": "1.2.0",
      "_view_name": "StyleView",
      "description_width": ""
     }
    },
    "1d571a8d2bed472da5193fb3ca3c83f4": {
     "model_module": "@jupyter-widgets/controls",
     "model_module_version": "1.5.0",
     "model_name": "DescriptionStyleModel",
     "state": {
      "_model_module": "@jupyter-widgets/controls",
      "_model_module_version": "1.5.0",
      "_model_name": "DescriptionStyleModel",
      "_view_count": null,
      "_view_module": "@jupyter-widgets/base",
      "_view_module_version": "1.2.0",
      "_view_name": "StyleView",
      "description_width": ""
     }
    },
    "2ba80552d8a543b796c9d3bb523a2739": {
     "model_module": "@jupyter-widgets/base",
     "model_module_version": "1.2.0",
     "model_name": "LayoutModel",
     "state": {
      "_model_module": "@jupyter-widgets/base",
      "_model_module_version": "1.2.0",
      "_model_name": "LayoutModel",
      "_view_count": null,
      "_view_module": "@jupyter-widgets/base",
      "_view_module_version": "1.2.0",
      "_view_name": "LayoutView",
      "align_content": null,
      "align_items": null,
      "align_self": null,
      "border": null,
      "bottom": null,
      "display": null,
      "flex": null,
      "flex_flow": null,
      "grid_area": null,
      "grid_auto_columns": null,
      "grid_auto_flow": null,
      "grid_auto_rows": null,
      "grid_column": null,
      "grid_gap": null,
      "grid_row": null,
      "grid_template_areas": null,
      "grid_template_columns": null,
      "grid_template_rows": null,
      "height": null,
      "justify_content": null,
      "justify_items": null,
      "left": null,
      "margin": null,
      "max_height": null,
      "max_width": null,
      "min_height": null,
      "min_width": null,
      "object_fit": null,
      "object_position": null,
      "order": null,
      "overflow": null,
      "overflow_x": null,
      "overflow_y": null,
      "padding": null,
      "right": null,
      "top": null,
      "visibility": null,
      "width": null
     }
    },
    "31573399e63245c992399cbae78a7447": {
     "model_module": "@jupyter-widgets/controls",
     "model_module_version": "1.5.0",
     "model_name": "ProgressStyleModel",
     "state": {
      "_model_module": "@jupyter-widgets/controls",
      "_model_module_version": "1.5.0",
      "_model_name": "ProgressStyleModel",
      "_view_count": null,
      "_view_module": "@jupyter-widgets/base",
      "_view_module_version": "1.2.0",
      "_view_name": "StyleView",
      "bar_color": null,
      "description_width": ""
     }
    },
    "4cadaad8ff20453fa26a6e640389b3c0": {
     "model_module": "@jupyter-widgets/controls",
     "model_module_version": "1.5.0",
     "model_name": "DescriptionStyleModel",
     "state": {
      "_model_module": "@jupyter-widgets/controls",
      "_model_module_version": "1.5.0",
      "_model_name": "DescriptionStyleModel",
      "_view_count": null,
      "_view_module": "@jupyter-widgets/base",
      "_view_module_version": "1.2.0",
      "_view_name": "StyleView",
      "description_width": ""
     }
    },
    "4eb168794cf34d539777e42dad9f9490": {
     "model_module": "@jupyter-widgets/controls",
     "model_module_version": "1.5.0",
     "model_name": "FloatProgressModel",
     "state": {
      "_dom_classes": [],
      "_model_module": "@jupyter-widgets/controls",
      "_model_module_version": "1.5.0",
      "_model_name": "FloatProgressModel",
      "_view_count": null,
      "_view_module": "@jupyter-widgets/controls",
      "_view_module_version": "1.5.0",
      "_view_name": "ProgressView",
      "bar_style": "success",
      "description": "",
      "description_tooltip": null,
      "layout": "IPY_MODEL_82b2668aa6a34a498a0e00e986e0f583",
      "max": 1000,
      "min": 0,
      "orientation": "horizontal",
      "style": "IPY_MODEL_31573399e63245c992399cbae78a7447",
      "value": 1000
     }
    },
    "5768b457bdca4c61a158139d8987bd52": {
     "model_module": "@jupyter-widgets/base",
     "model_module_version": "1.2.0",
     "model_name": "LayoutModel",
     "state": {
      "_model_module": "@jupyter-widgets/base",
      "_model_module_version": "1.2.0",
      "_model_name": "LayoutModel",
      "_view_count": null,
      "_view_module": "@jupyter-widgets/base",
      "_view_module_version": "1.2.0",
      "_view_name": "LayoutView",
      "align_content": null,
      "align_items": null,
      "align_self": null,
      "border": null,
      "bottom": null,
      "display": null,
      "flex": null,
      "flex_flow": null,
      "grid_area": null,
      "grid_auto_columns": null,
      "grid_auto_flow": null,
      "grid_auto_rows": null,
      "grid_column": null,
      "grid_gap": null,
      "grid_row": null,
      "grid_template_areas": null,
      "grid_template_columns": null,
      "grid_template_rows": null,
      "height": null,
      "justify_content": null,
      "justify_items": null,
      "left": null,
      "margin": null,
      "max_height": null,
      "max_width": null,
      "min_height": null,
      "min_width": null,
      "object_fit": null,
      "object_position": null,
      "order": null,
      "overflow": null,
      "overflow_x": null,
      "overflow_y": null,
      "padding": null,
      "right": null,
      "top": null,
      "visibility": null,
      "width": null
     }
    },
    "639fa013071b41c9a51b0a87e74fd2db": {
     "model_module": "@jupyter-widgets/base",
     "model_module_version": "1.2.0",
     "model_name": "LayoutModel",
     "state": {
      "_model_module": "@jupyter-widgets/base",
      "_model_module_version": "1.2.0",
      "_model_name": "LayoutModel",
      "_view_count": null,
      "_view_module": "@jupyter-widgets/base",
      "_view_module_version": "1.2.0",
      "_view_name": "LayoutView",
      "align_content": null,
      "align_items": null,
      "align_self": null,
      "border": null,
      "bottom": null,
      "display": null,
      "flex": null,
      "flex_flow": null,
      "grid_area": null,
      "grid_auto_columns": null,
      "grid_auto_flow": null,
      "grid_auto_rows": null,
      "grid_column": null,
      "grid_gap": null,
      "grid_row": null,
      "grid_template_areas": null,
      "grid_template_columns": null,
      "grid_template_rows": null,
      "height": null,
      "justify_content": null,
      "justify_items": null,
      "left": null,
      "margin": null,
      "max_height": null,
      "max_width": null,
      "min_height": null,
      "min_width": null,
      "object_fit": null,
      "object_position": null,
      "order": null,
      "overflow": null,
      "overflow_x": null,
      "overflow_y": null,
      "padding": null,
      "right": null,
      "top": null,
      "visibility": null,
      "width": null
     }
    },
    "82b2668aa6a34a498a0e00e986e0f583": {
     "model_module": "@jupyter-widgets/base",
     "model_module_version": "1.2.0",
     "model_name": "LayoutModel",
     "state": {
      "_model_module": "@jupyter-widgets/base",
      "_model_module_version": "1.2.0",
      "_model_name": "LayoutModel",
      "_view_count": null,
      "_view_module": "@jupyter-widgets/base",
      "_view_module_version": "1.2.0",
      "_view_name": "LayoutView",
      "align_content": null,
      "align_items": null,
      "align_self": null,
      "border": null,
      "bottom": null,
      "display": null,
      "flex": null,
      "flex_flow": null,
      "grid_area": null,
      "grid_auto_columns": null,
      "grid_auto_flow": null,
      "grid_auto_rows": null,
      "grid_column": null,
      "grid_gap": null,
      "grid_row": null,
      "grid_template_areas": null,
      "grid_template_columns": null,
      "grid_template_rows": null,
      "height": null,
      "justify_content": null,
      "justify_items": null,
      "left": null,
      "margin": null,
      "max_height": null,
      "max_width": null,
      "min_height": null,
      "min_width": null,
      "object_fit": null,
      "object_position": null,
      "order": null,
      "overflow": null,
      "overflow_x": null,
      "overflow_y": null,
      "padding": null,
      "right": null,
      "top": null,
      "visibility": null,
      "width": null
     }
    },
    "83fbf67e21934d4dbe879816b4d65bb5": {
     "model_module": "@jupyter-widgets/base",
     "model_module_version": "1.2.0",
     "model_name": "LayoutModel",
     "state": {
      "_model_module": "@jupyter-widgets/base",
      "_model_module_version": "1.2.0",
      "_model_name": "LayoutModel",
      "_view_count": null,
      "_view_module": "@jupyter-widgets/base",
      "_view_module_version": "1.2.0",
      "_view_name": "LayoutView",
      "align_content": null,
      "align_items": null,
      "align_self": null,
      "border": null,
      "bottom": null,
      "display": null,
      "flex": null,
      "flex_flow": null,
      "grid_area": null,
      "grid_auto_columns": null,
      "grid_auto_flow": null,
      "grid_auto_rows": null,
      "grid_column": null,
      "grid_gap": null,
      "grid_row": null,
      "grid_template_areas": null,
      "grid_template_columns": null,
      "grid_template_rows": null,
      "height": null,
      "justify_content": null,
      "justify_items": null,
      "left": null,
      "margin": null,
      "max_height": null,
      "max_width": null,
      "min_height": null,
      "min_width": null,
      "object_fit": null,
      "object_position": null,
      "order": null,
      "overflow": null,
      "overflow_x": null,
      "overflow_y": null,
      "padding": null,
      "right": null,
      "top": null,
      "visibility": null,
      "width": null
     }
    },
    "b99ba55f76a541129b2a6d594cd7b86a": {
     "model_module": "@jupyter-widgets/base",
     "model_module_version": "1.2.0",
     "model_name": "LayoutModel",
     "state": {
      "_model_module": "@jupyter-widgets/base",
      "_model_module_version": "1.2.0",
      "_model_name": "LayoutModel",
      "_view_count": null,
      "_view_module": "@jupyter-widgets/base",
      "_view_module_version": "1.2.0",
      "_view_name": "LayoutView",
      "align_content": null,
      "align_items": null,
      "align_self": null,
      "border": null,
      "bottom": null,
      "display": null,
      "flex": null,
      "flex_flow": null,
      "grid_area": null,
      "grid_auto_columns": null,
      "grid_auto_flow": null,
      "grid_auto_rows": null,
      "grid_column": null,
      "grid_gap": null,
      "grid_row": null,
      "grid_template_areas": null,
      "grid_template_columns": null,
      "grid_template_rows": null,
      "height": null,
      "justify_content": null,
      "justify_items": null,
      "left": null,
      "margin": null,
      "max_height": null,
      "max_width": null,
      "min_height": null,
      "min_width": null,
      "object_fit": null,
      "object_position": null,
      "order": null,
      "overflow": null,
      "overflow_x": null,
      "overflow_y": null,
      "padding": null,
      "right": null,
      "top": null,
      "visibility": null,
      "width": null
     }
    },
    "e3d336a8beaf41e8a7c677fa456613d6": {
     "model_module": "@jupyter-widgets/controls",
     "model_module_version": "1.5.0",
     "model_name": "HBoxModel",
     "state": {
      "_dom_classes": [],
      "_model_module": "@jupyter-widgets/controls",
      "_model_module_version": "1.5.0",
      "_model_name": "HBoxModel",
      "_view_count": null,
      "_view_module": "@jupyter-widgets/controls",
      "_view_module_version": "1.5.0",
      "_view_name": "HBoxView",
      "box_style": "",
      "children": [
       "IPY_MODEL_019837de83544616872d0425a3c3e0c2",
       "IPY_MODEL_f7bd7c71319741b1885eeb4b246dad20",
       "IPY_MODEL_f01ebb2ba6af4ad89409b0c178900c7b"
      ],
      "layout": "IPY_MODEL_639fa013071b41c9a51b0a87e74fd2db"
     }
    },
    "f01ebb2ba6af4ad89409b0c178900c7b": {
     "model_module": "@jupyter-widgets/controls",
     "model_module_version": "1.5.0",
     "model_name": "HTMLModel",
     "state": {
      "_dom_classes": [],
      "_model_module": "@jupyter-widgets/controls",
      "_model_module_version": "1.5.0",
      "_model_name": "HTMLModel",
      "_view_count": null,
      "_view_module": "@jupyter-widgets/controls",
      "_view_module_version": "1.5.0",
      "_view_name": "HTMLView",
      "description": "",
      "description_tooltip": null,
      "layout": "IPY_MODEL_b99ba55f76a541129b2a6d594cd7b86a",
      "placeholder": "​",
      "style": "IPY_MODEL_4cadaad8ff20453fa26a6e640389b3c0",
      "value": " 1000/1000 [03:22&lt;00:00,  5.01it/s]"
     }
    },
    "f2fa81dcab9a4dccb4a26ab281ff8fbe": {
     "model_module": "@jupyter-widgets/controls",
     "model_module_version": "1.5.0",
     "model_name": "DescriptionStyleModel",
     "state": {
      "_model_module": "@jupyter-widgets/controls",
      "_model_module_version": "1.5.0",
      "_model_name": "DescriptionStyleModel",
      "_view_count": null,
      "_view_module": "@jupyter-widgets/base",
      "_view_module_version": "1.2.0",
      "_view_name": "StyleView",
      "description_width": ""
     }
    },
    "f7bd7c71319741b1885eeb4b246dad20": {
     "model_module": "@jupyter-widgets/controls",
     "model_module_version": "1.5.0",
     "model_name": "FloatProgressModel",
     "state": {
      "_dom_classes": [],
      "_model_module": "@jupyter-widgets/controls",
      "_model_module_version": "1.5.0",
      "_model_name": "FloatProgressModel",
      "_view_count": null,
      "_view_module": "@jupyter-widgets/controls",
      "_view_module_version": "1.5.0",
      "_view_name": "ProgressView",
      "bar_style": "success",
      "description": "",
      "description_tooltip": null,
      "layout": "IPY_MODEL_045765ff92ad4095af7bce9fc5d0d04c",
      "max": 1000,
      "min": 0,
      "orientation": "horizontal",
      "style": "IPY_MODEL_08d33e93126a45469ea6ac282e157b2a",
      "value": 1000
     }
    }
   }
  }
 },
 "nbformat": 4,
 "nbformat_minor": 5
}
