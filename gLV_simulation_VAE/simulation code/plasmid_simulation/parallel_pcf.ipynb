{
 "cells": [
  {
   "cell_type": "code",
   "execution_count": 1,
   "metadata": {},
   "outputs": [],
   "source": [
    "import numpy as np\n",
    "import math\n",
    "from scipy.integrate import solve_ivp\n",
    "import matplotlib.pyplot as plt\n",
    "import tracemalloc\n",
    "import sys\n",
    "import multiprocessing as mp"
   ]
  },
  {
   "cell_type": "code",
   "execution_count": 2,
   "metadata": {
    "collapsed": false,
    "jupyter": {
     "outputs_hidden": false
    }
   },
   "outputs": [],
   "source": [
    "from tqdm import tqdm"
   ]
  },
  {
   "cell_type": "code",
   "execution_count": 3,
   "metadata": {},
   "outputs": [],
   "source": [
    "def random_parameter_generator(max,min,shape):\n",
    "    rng = np.random.default_rng()\n",
    "    array = (max - min) * rng.random(size=shape, dtype=np.float64) + min\n",
    "    return array\n",
    "\n",
    "def random_plasmid_parameter_range_generator(global_max_parameter_value,global_min_parameter_value,parameter_range_partition_size):\n",
    "    rng = np.random.default_rng()\n",
    "    parameter_range_size = parameter_range_partition_size * (global_max_parameter_value - global_min_parameter_value)\n",
    "    min = (global_max_parameter_value - parameter_range_size - global_min_parameter_value) * rng.random(dtype=np.float64) + global_min_parameter_value\n",
    "    max = min + parameter_range_size\n",
    "    return min,max"
   ]
  },
  {
   "cell_type": "code",
   "execution_count": 4,
   "metadata": {},
   "outputs": [],
   "source": [
    "def pcf(t, V, m_species, n_plasmids, growth_rates, species_niche_capacities, species_niches, transfer_rates, burdens, loss_rates, dilution_rate):\n",
    "    S = V[:m_species]\n",
    "    P = V[m_species:].reshape((m_species,n_plasmids))\n",
    "    Pbar = np.repeat(np.expand_dims(P.T,1),m_species,axis=1)\n",
    "    \n",
    "    L = burdens\n",
    "    Us = growth_rates\n",
    "    D = dilution_rate\n",
    "    K = loss_rates\n",
    "\n",
    "    Sbar = np.repeat(S[...,np.newaxis],n_plasmids,axis=1)\n",
    "\n",
    "    A = S/(S + np.einsum(\"ij,ij -> i\",P,L))\n",
    "    B = (Sbar*(1+L))/(Sbar*(1+L) + np.repeat(np.einsum(\"ij,ij -> i\",P,L)[...,np.newaxis],n_plasmids,axis=1)-P*L)\n",
    "    Up = np.repeat(Us[...,np.newaxis],n_plasmids,axis=1)/(1 + L)\n",
    "    C = species_niche_capacities - species_niches @ S\n",
    "    \n",
    "    Cbar = np.repeat(C[...,np.newaxis],n_plasmids,axis=1)\n",
    "\n",
    "    H = transfer_rates\n",
    "    HPbar = np.einsum(\"ijk,ijk -> ji\",H,Pbar)\n",
    "\n",
    "    dSdt = (A*Us*S*C - D*S).flatten()\n",
    "    dPdt = (B*Up*P*Cbar + (Sbar - P)*HPbar - D*P - K*P).flatten()\n",
    "    dVdt = np.ones(len(V))\n",
    "\n",
    "    dVdt[:m_species] = dSdt\n",
    "    dVdt[m_species:] = dPdt\n",
    "\n",
    "    return dVdt"
   ]
  },
  {
   "cell_type": "code",
   "execution_count": 5,
   "metadata": {},
   "outputs": [],
   "source": [
    "def compute_pcf_m_species_n_plasmids(index, m_species, n_plasmids, target_plasmids, growth_rates, species_niche_capacities, species_niches, transfer_rates, burdens, loss_rates, dilution_rate,background_species_IC,background_plasmids_IC,timepoints,simulation_time,method):\n",
    "    # Initial conditions\n",
    "    V0 = np.zeros(m_species + m_species * n_plasmids)\n",
    "\n",
    "    V0[:m_species] = background_species_IC\n",
    "    V0[m_species+m_species*target_plasmids:] = background_plasmids_IC[:,:n_plasmids-target_plasmids].flatten()\n",
    "\n",
    "    plasmids_IC = np.zeros((m_species,n_plasmids))\n",
    "\n",
    "    plasmids_IC[:,target_plasmids:] = background_plasmids_IC[:,:n_plasmids-target_plasmids]\n",
    "\n",
    "    target_plasmids_IC_unscaled = random_parameter_generator(1,0,(m_species,target_plasmids))\n",
    "    target_plasmids_IC_scaled_to_species = target_plasmids_IC_unscaled * np.repeat(background_species_IC[...,np.newaxis],target_plasmids,axis=1)\n",
    "\n",
    "    target_plasmids_scaling = random_parameter_generator(1,0,target_plasmids)\n",
    "\n",
    "    target_plasmids_IC = target_plasmids_IC_scaled_to_species * np.repeat(target_plasmids_scaling[np.newaxis,...],m_species,axis=0)\n",
    "\n",
    "    plasmids_IC[:,:target_plasmids] = target_plasmids_IC\n",
    "\n",
    "    V0[m_species:] = plasmids_IC.flatten()\n",
    "\n",
    "    # Time span for integration\n",
    "    t_span = [0, simulation_time]\n",
    "\n",
    "    # Solve the ODE system\n",
    "    sol = solve_ivp(pcf, t_span, V0, method=method,args=(m_species, n_plasmids, growth_rates, species_niche_capacities, species_niches, transfer_rates, burdens, loss_rates, dilution_rate), t_eval=np.linspace(0, simulation_time, timepoints))\n",
    "\n",
    "    time = sol.t\n",
    "    species_biomass = sol.y[:m_species]\n",
    "    total_biomass = sum(sol.y[:m_species])\n",
    "    plasmid_distribution = sol.y[m_species:].reshape((m_species,n_plasmids,timepoints))\n",
    "\n",
    "    plasmid_abundances = np.sum(plasmid_distribution,axis=0)\n",
    "    target_plasmid_abundances = plasmid_abundances[:target_plasmids,:]\n",
    "    \n",
    "    return index,target_plasmid_abundances,plasmid_abundances,total_biomass,species_biomass,time"
   ]
  },
  {
   "cell_type": "code",
   "execution_count": 6,
   "metadata": {},
   "outputs": [],
   "source": [
    "def merge(args):\n",
    "    return compute_pcf_m_species_n_plasmids(*args)"
   ]
  },
  {
   "cell_type": "code",
   "execution_count": 12,
   "metadata": {},
   "outputs": [
    {
     "name": "stdout",
     "output_type": "stream",
     "text": [
      "cores: 9\n",
      "pool assigned\n",
      "parallel computation started\n"
     ]
    },
    {
     "name": "stderr",
     "output_type": "stream",
     "text": [
      "100%|██████████| 10/10 [01:30<00:00,  9.07s/it]\n"
     ]
    }
   ],
   "source": [
    "save_data = True\n",
    "path = \"./pcf_simulations/\"\n",
    "\n",
    "n_replicates = 1\n",
    "replicate_start = 1\n",
    "for replicate in range(replicate_start,replicate_start+n_replicates):\n",
    "    # Parameter values\n",
    "    n_simulations = 10\n",
    "    method = 'LSODA'\n",
    "\n",
    "    m_species = 100\n",
    "    n_plasmids = 5\n",
    "    k_niches = 10\n",
    "\n",
    "    initial_carrying_capacity = 1\n",
    "\n",
    "\n",
    "    dilution_rate = 0.004\n",
    "    timepoints = 50\n",
    "    simulation_time = timepoints*24*7\n",
    "\n",
    "    parameter_file_name = \"./pcf/pcf_simulation_parameters_\" + str(m_species) + \"_species_\" + str(n_plasmids) + \"_plasmids_\" + str(k_niches) + \"_niches_\" + \"replicate_\" + str(replicate)\n",
    "    \n",
    "    parameters = np.load(parameter_file_name+\".npz\")\n",
    "\n",
    "    burdens=parameters['burdens']\n",
    "    growth_rates=parameters['growth_rates']\n",
    "    transfer_rates=parameters['transfer_rates']\n",
    "    loss_rates=parameters['loss_rates']\n",
    "    species_niche_capacities=parameters['species_niche_capacities']\n",
    "    species_niches=parameters['species_niches']\n",
    "    background_species_IC=parameters['background_species_IC']\n",
    "    background_plasmids_IC=parameters['background_plasmids_IC']\n",
    "\n",
    "    for target_plasmids in range(5,6):\n",
    "        data = np.ones((n_simulations,target_plasmids+1,timepoints))\n",
    "        full_data = np.ones((n_simulations,n_plasmids+m_species,timepoints))\n",
    "\n",
    "        args = []\n",
    "        for index in range(n_simulations):\n",
    "            args.append([index,m_species, n_plasmids, target_plasmids, growth_rates, species_niche_capacities, species_niches, transfer_rates, burdens, loss_rates, dilution_rate, background_species_IC,background_plasmids_IC,timepoints,simulation_time,method])\n",
    "\n",
    "        if __name__==\"__main__\":\n",
    "            n_cpu = mp.cpu_count()-2\n",
    "            print(\"cores:\",n_cpu)\n",
    "            pool = mp.Pool(processes=n_cpu)\n",
    "            print(\"pool assigned\")\n",
    "            print(\"parallel computation started\")\n",
    "            pool = mp.Pool(processes=int(n_cpu-1))\n",
    "            #for sim in pool.imap(merge,args):\n",
    "            for sim in tqdm(pool.imap(merge, args), total=n_simulations):\n",
    "                index,target_plasmid_abundances,plasmid_abundances,total_biomass,species_biomass,time = sim\n",
    "\n",
    "                #print(target_plasmid_abundances)\n",
    "                data[index,-1,:] = total_biomass\n",
    "                data[index,:-1,:] = target_plasmid_abundances\n",
    "\n",
    "                full_data[index,:n_plasmids,:] = plasmid_abundances\n",
    "                full_data[index,n_plasmids:,:] = species_biomass\n",
    "\n",
    "            pool.close()\n",
    "\n",
    "        data_file_name = f\"comm{replicate}_T{n_plasmids}\"\n",
    "        full_data_file_name = f\"comm{replicate}_T{n_plasmids}_full\"\n",
    "        if save_data:\n",
    "            np.save(path+data_file_name,data)\n",
    "            np.save(path+full_data_file_name,full_data)"
   ]
  },
  {
   "cell_type": "markdown",
   "metadata": {},
   "source": [
    "Sample plot"
   ]
  },
  {
   "cell_type": "code",
   "execution_count": 11,
   "metadata": {},
   "outputs": [
    {
     "data": {
      "image/png": "[encoded data removed]",
      "text/plain": [
       "<Figure size 640x480 with 1 Axes>"
      ]
     },
     "metadata": {},
     "output_type": "display_data"
    }
   ],
   "source": [
    "#print(plasmids_scaling)\n",
    "sim = 1\n",
    "\n",
    "data = np.load(path+f\"comm1_T5.npy\")\n",
    "target_plasmids = 5\n",
    "\n",
    "plt.plot(time, data[sim,-1,:], label=f\"Total Biomass\")\n",
    "for plasmid in range(target_plasmids):\n",
    "    plt.plot(time, data[sim,plasmid,:], label=f\"P{plasmid+1}\")\n",
    "\n",
    "plt.xlabel(\"Time\")  # Add x-axis label\n",
    "plt.ylabel(\"Population\")  # Add y-axis label\n",
    "plt.title(\"Population Dynamics\")  # Add title\n",
    "plt.legend()  # Add legend\n",
    "plt.grid(False)  # Remove grid lines\n",
    "\n",
    "\n",
    "plt.gca().spines['top'].set_color('none')\n",
    "plt.gca().spines['right'].set_color('none')\n",
    "plt.gca().set_ylim(0,1)\n",
    "\n",
    "plt.show()"
   ]
  },
  {
   "cell_type": "code",
   "execution_count": null,
   "metadata": {},
   "outputs": [],
   "source": []
  }
 ],
 "metadata": {
  "kernelspec": {
   "display_name": "Python (myenv)",
   "language": "python",
   "name": "myenv"
  },
  "language_info": {
   "codemirror_mode": {
    "name": "ipython",
    "version": 3
   },
   "file_extension": ".py",
   "mimetype": "text/x-python",
   "name": "python",
   "nbconvert_exporter": "python",
   "pygments_lexer": "ipython3",
   "version": "3.12.4"
  }
 },
 "nbformat": 4,
 "nbformat_minor": 4
}
